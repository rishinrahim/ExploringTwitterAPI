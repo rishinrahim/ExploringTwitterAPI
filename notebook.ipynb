{
 "metadata": {
  "language_info": {
   "codemirror_mode": {
    "name": "ipython",
    "version": 3
   },
   "file_extension": ".py",
   "mimetype": "text/x-python",
   "name": "python",
   "nbconvert_exporter": "python",
   "pygments_lexer": "ipython3",
   "version": "3.7.7-final"
  },
  "orig_nbformat": 2,
  "kernelspec": {
   "name": "python3",
   "display_name": "Python 3",
   "language": "python"
  }
 },
 "nbformat": 4,
 "nbformat_minor": 2,
 "cells": [
  {
   "cell_type": "code",
   "execution_count": 57,
   "metadata": {},
   "outputs": [],
   "source": [
    "from modules.twitterapi import TwitterAPI\n",
    "from modules import config\n"
   ]
  },
  {
   "cell_type": "code",
   "execution_count": 58,
   "metadata": {},
   "outputs": [],
   "source": [
    "t = TwitterAPI(API_KEY,API_SECRET,ACCESS_TOKEN,ACCESS_TOKEN_SECRET)"
   ]
  },
  {
   "source": [
    "## Create API"
   ],
   "cell_type": "markdown",
   "metadata": {}
  },
  {
   "cell_type": "code",
   "execution_count": 59,
   "metadata": {},
   "outputs": [
    {
     "output_type": "stream",
     "name": "stdout",
     "text": [
      "Authentication OK\n"
     ]
    }
   ],
   "source": [
    "api = t.create_api()"
   ]
  },
  {
   "source": [
    "## Get User Details"
   ],
   "cell_type": "markdown",
   "metadata": {}
  },
  {
   "cell_type": "code",
   "execution_count": 60,
   "metadata": {},
   "outputs": [
    {
     "output_type": "stream",
     "name": "stdout",
     "text": [
      "User details:\nRishin #LearningToUnlearn\nAspiring Data scientist. #MachineLearning developer. Learning #Statistics one day at a time. Research interest in #NLP #AR #conversationalAI.  #Python Lover.\nIndia\n"
     ]
    }
   ],
   "source": [
    "#get user details and last 10 followers\n",
    "\n",
    "user = api.get_user(\"RishinRahim\")\n",
    "\n",
    "print(\"User details:\")\n",
    "print(user.name)\n",
    "print(user.description)\n",
    "print(user.location)"
   ]
  },
  {
   "source": [
    "## Tweet "
   ],
   "cell_type": "markdown",
   "metadata": {}
  },
  {
   "cell_type": "code",
   "execution_count": null,
   "metadata": {},
   "outputs": [],
   "source": [
    "try:\n",
    "    update_status = api.update_status(\"Test tweet from Tweepy Python #tweepy #python\")\n",
    "except:\n",
    "    print(\"Tweet length is long\")\n"
   ]
  },
  {
   "source": [
    "## Get last 10 followers of the user"
   ],
   "cell_type": "markdown",
   "metadata": {}
  },
  {
   "cell_type": "code",
   "execution_count": 61,
   "metadata": {},
   "outputs": [
    {
     "output_type": "stream",
     "name": "stdout",
     "text": [
      "Last 10 Followers:\n",
      "Beka \"Bexx\" Modebade\n",
      "Deep_In_Depth\n",
      "Daniel Probst\n",
      "ryxyr\n",
      "Filip Miljković 🇷🇸🇩🇪🇸🇪\n",
      "Magda Zwierzyna\n",
      "‌ ‍ ​ ‍ ​ ‍ ​ ‍ ​ ‍ ​ ‍ ​ ‍ ​ ‍ ​ ✨🅰🅸 ᴾaᵣₜᵢcₗₑs✨\n",
      "Ramsri Goutham Golla\n",
      "Vibha Rao 🐥\n",
      "Salmanul Faricy\n",
      "fatma S.Gadelrab\n",
      "Alepo Technologies Inc.\n",
      "Abdullah Al Mamun\n",
      "Suriya Subramanian\n",
      "Pankaj Singh\n",
      "Dr Nyx McLean\n",
      "pedro.martinez.puig\n",
      "Cenotech Solutions\n",
      "Mario Pawlowski🇵🇱🇺🇸🇪🇺🌎⚽️\n",
      "Gentackle #StayHome\n"
     ]
    }
   ],
   "source": [
    "print(\"Last 10 Followers:\")\n",
    "for follower in user.followers():\n",
    "    print(follower.name)"
   ]
  },
  {
   "source": [
    "## Follow a User"
   ],
   "cell_type": "markdown",
   "metadata": {}
  },
  {
   "cell_type": "code",
   "execution_count": 62,
   "metadata": {},
   "outputs": [],
   "source": [
    "#Follow the user\n",
    "follow = api.create_friendship(\"realpython\")\n"
   ]
  },
  {
   "source": [
    "## Search tweets using text, language, and other filters"
   ],
   "cell_type": "markdown",
   "metadata": {}
  },
  {
   "cell_type": "code",
   "execution_count": 64,
   "metadata": {},
   "outputs": [
    {
     "output_type": "stream",
     "name": "stdout",
     "text": [
      "andrea panizza:RT @malga_center: New #MaLGa paper on Predicting Tennis Match Outcomes with Network Analysis and Machine Learning by @Firas_Bayram, @Davide…\nHajer Al Qassimi:RT @machine_ml: RT @TheCuriousLuke: RT @LindaGrass0: What is supervised learning? Rather than explaining it by words, let's see an explanat…\nAppsUnify:RT @Ronald_vanLoon: Potholes detection using #MachineLearning, to save lives and money!\nby @AWS\n\n#ML #AI #ArtificialIntelligence #MI #Smart…\nMachine Learning:Artificial Intelligence for Business https://t.co/4ggpDLgTVi  #machinelearning #ad\nAdhney:RT @leonvioleta4: Implement supervised and unsupervised #MachineLearning  algorithms using C++ libraries such as #PyTorch C++ API, Caffe2,…\nAdhney:RT @therealsreehari: Python for Beginners, enroll Fast !!!\n\n#100DaysOfCode #Python #AI\n#womenintech #MachineLearning\n https://t.co/M2ys6l8K…\nChidambara .ML.:RT @leonvioleta4: Implement supervised and unsupervised #MachineLearning  algorithms using C++ libraries such as #PyTorch C++ API, Caffe2,…\nAppsUnify:RT @RichardEudes: Understanding The Value Of Artificial Intelligence Solutions In Your Business https://t.co/uG6BGtdmRy #artificialintellig…\nWomen In Stem 🇿🇦:RT @therealsreehari: Python for Beginners, enroll Fast !!!\n\n#100DaysOfCode #Python #AI\n#womenintech #MachineLearning\n https://t.co/M2ys6l8K…\nAdhney:RT @NumFOCUS: Support the #opensource #datascience tools you use every day — become a NumFOCUS donor! \n\nhttps://t.co/149WtpFFVo\n\n#python #p…\nBeka \"Bexx\" Modebade:RT @DivergentCIO: Why A Lack of Data Scientists Could Save AI - Coruzant Technologies https://t.co/uPn4J5gjje #DataScience #AI #DataScienti…\nChidambara .ML.:RT @NumFOCUS: Support the #opensource #datascience tools you use every day — become a NumFOCUS donor! \n\nhttps://t.co/149WtpFFVo\n\n#python #p…\nChidambara .ML.:RT @DivergentCIO: Why A Lack of Data Scientists Could Save AI - Coruzant Technologies https://t.co/uPn4J5gjje #DataScience #AI #DataScienti…\nAdhney:RT @dataartisan1: If you ever felt that you want to become a #DataScientist:\nThere has never been a better time to start than now!\n\nDemand…\nJessica shoonover:RT @theymakedesign: Web Design Inspiration - vol. 87 🖥💡\n\n#AI #machinelearning #BigData #IoT #deeplearning #FutureTech #ArtificialIntelligen…\n"
     ]
    }
   ],
   "source": [
    "for tweet in api.search(q=\"Machinelearning\", lang=\"en\", rpp=10):\n",
    "    print(f\"{tweet.user.name}:{tweet.text}\")"
   ]
  }
 ]
}